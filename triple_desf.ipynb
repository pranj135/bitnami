{
  "nbformat": 4,
  "nbformat_minor": 0,
  "metadata": {
    "colab": {
      "provenance": [],
      "authorship_tag": "ABX9TyM7J0UKap5pfw/VIpEIRf7z",
      "include_colab_link": true
    },
    "kernelspec": {
      "name": "python3",
      "display_name": "Python 3"
    },
    "language_info": {
      "name": "python"
    }
  },
  "cells": [
    {
      "cell_type": "markdown",
      "metadata": {
        "id": "view-in-github",
        "colab_type": "text"
      },
      "source": [
        "<a href=\"https://colab.research.google.com/github/pranj135/bitnami/blob/main/triple_desf.ipynb\" target=\"_parent\"><img src=\"https://colab.research.google.com/assets/colab-badge.svg\" alt=\"Open In Colab\"/></a>"
      ]
    },
    {
      "cell_type": "code",
      "execution_count": null,
      "metadata": {
        "colab": {
          "base_uri": "https://localhost:8080/"
        },
        "id": "VDMpEZtwARBk",
        "outputId": "92c359cd-927b-4ffb-ce95-221b2a0973ed"
      },
      "outputs": [
        {
          "output_type": "stream",
          "name": "stdout",
          "text": [
            "Requirement already satisfied: pycryptodome in /usr/local/lib/python3.10/dist-packages (3.20.0)\n"
          ]
        }
      ],
      "source": [
        "pip install pycryptodome"
      ]
    },
    {
      "cell_type": "code",
      "source": [
        "import wave\n"
      ],
      "metadata": {
        "id": "9urN2dM1AbLP"
      },
      "execution_count": null,
      "outputs": []
    },
    {
      "cell_type": "code",
      "source": [
        "from Crypto.Cipher import DES3\n",
        "from hashlib import md5"
      ],
      "metadata": {
        "id": "PDt6hCWqAdWb"
      },
      "execution_count": null,
      "outputs": []
    },
    {
      "cell_type": "code",
      "source": [
        "key = input(\"Enter TDES Key : \")\n",
        "key_hash = md5(key.encode('ascii')).digest()"
      ],
      "metadata": {
        "colab": {
          "base_uri": "https://localhost:8080/"
        },
        "id": "KgaLWxJqAfU1",
        "outputId": "9b1e7da2-f471-4d0a-b585-8fb7cd73e396"
      },
      "execution_count": null,
      "outputs": [
        {
          "name": "stdout",
          "output_type": "stream",
          "text": [
            "Enter TDES Key : MAP\n"
          ]
        }
      ]
    },
    {
      "cell_type": "code",
      "source": [
        "tdes_key = DES3.adjust_key_parity(key_hash)\n",
        "cipher = DES3.new(tdes_key, DES3.MODE_EAX, nonce=b'0')"
      ],
      "metadata": {
        "id": "D5xuHXJAAhao"
      },
      "execution_count": null,
      "outputs": []
    },
    {
      "cell_type": "code",
      "source": [
        "def case(a):\n",
        "    if a == 1:\n",
        "        encode()\n",
        "    elif a == 2:\n",
        "        decode()\n",
        "    elif a == 3:\n",
        "        quit()\n",
        "    else:\n",
        "        print(\"\\nEnter valid Choice!\")"
      ],
      "metadata": {
        "id": "XcHuerjOAnMC"
      },
      "execution_count": null,
      "outputs": []
    },
    {
      "cell_type": "code",
      "source": [
        "def encode():\n",
        "    print(\"\\nEncoding Starts..\")\n",
        "    audio = wave.open(r\"audiocheck.net_pinknoise.wav\", mode=\"rb\")\n",
        "    frame_bytes = bytearray(list(audio.readframes(audio.getnframes())))\n",
        "    string = str(input(\"Enter Text to be Incription : \"))\n",
        "    string = string + int((len(frame_bytes)-(len(string)*8*8))/8) * '#'\n",
        "    bits = list(map(int, ''.join([bin(ord(i)).lstrip('0b').rjust(8, '0') for i in string])))\n",
        "    for i, bit in enumerate(bits):\n",
        "        frame_bytes[i] = (frame_bytes[i] & 254) | bit\n",
        "    frame_modified = bytes(frame_bytes)\n",
        "    for i in range(0, 10):\n",
        "        print(frame_bytes[i])\n",
        "    newAudio = wave.open('Audio_1.wav', 'wb')\n",
        "    newAudio.setparams(audio.getparams())\n",
        "    newAudio.writeframes(frame_modified)\n",
        "    newAudio.close()\n",
        "    audio.close()\n",
        "    print(\" |----> Successfully encoded text inside Audio_1.wav using Steganography \")\n",
        "    print(\"Applying Triple DES Encryption on Audio 1 file \")\n",
        "    with open('Audio_1.wav', 'rb') as input_file:\n",
        "        file_bytes = input_file.read()\n",
        "    encrypted = cipher.encrypt(file_bytes)\n",
        "    with open('Audio_1.wav', 'wb') as encrypted_file:\n",
        "        encrypted_file.write(encrypted)\n",
        "    print(\"Audio file encrypted with DES3 Algorithm Successful \")\n"
      ],
      "metadata": {
        "id": "5A6y0Ub8AppL"
      },
      "execution_count": null,
      "outputs": []
    },
    {
      "cell_type": "code",
      "source": [
        "def decode():\n",
        "    print(\"Audio file decryption with DES3 Algorithm Successful \")\n",
        "    key = input(\"Enter TDES Key: \")\n",
        "    key_hash = md5(key.encode('ascii')).digest() # 16-byte key\n",
        "    tdes_key = DES3.adjust_key_parity(key_hash)\n",
        "    cipher = DES3.new(tdes_key, DES3.MODE_EAX, nonce=b'0')\n",
        "\n",
        "    with open('Audio_1.wav', 'rb') as input_file:\n",
        "        file_bytes = input_file.read()\n",
        "\n",
        "    decrypted = cipher.decrypt(file_bytes)\n",
        "\n",
        "    with open('Audio_1.wav', 'wb') as dec_file:\n",
        "        dec_file.write(decrypted)\n",
        "\n",
        "    print(\"Audio file decrypted with DES3 Algorithm\")\n",
        "    print(\"\\nDecoding Starts.. Steganography \")\n",
        "\n",
        "    audio = wave.open(\"Audio_1.wav\", mode='rb')\n",
        "    frame_bytes = bytearray(list(audio.readframes(audio.getnframes())))\n",
        "    extracted = [frame_bytes[i] & 1 for i in range(len(frame_bytes))]\n",
        "    string = \"\".join(chr(int(\"\".join(map(str, extracted[i:i+8])), 2)) for i in range(0, len(extracted), 8))\n",
        "    decoded = string.split(\"###\")[0]\n",
        "    print(\"Successfully decoded:\", decoded)\n",
        "    audio.close()\n"
      ],
      "metadata": {
        "id": "ZQfz9Vo3BGB8"
      },
      "execution_count": null,
      "outputs": []
    },
    {
      "cell_type": "code",
      "source": [
        "def main():\n",
        "    while True:\n",
        "        print(\"\\nSelect an option:\\n1) Encode\\n2) Decode\\n3) Exit\")\n",
        "        choice = input(\"\\nChoice: \")\n",
        "        if choice == '1':\n",
        "            encode()\n",
        "        elif choice == '2':\n",
        "            decode()\n",
        "        elif choice == '3':\n",
        "            print(\"Exiting program...\")\n",
        "            break\n",
        "        else:\n",
        "            print(\"Invalid choice! Please enter 1, 2, or 3.\")\n",
        "\n",
        "if __name__ == \"__main__\":\n",
        "    main()"
      ],
      "metadata": {
        "colab": {
          "base_uri": "https://localhost:8080/"
        },
        "id": "HoY9D2q_BJ7P",
        "outputId": "dc458781-a859-4e96-e8ea-89c42f2586c9"
      },
      "execution_count": null,
      "outputs": [
        {
          "output_type": "stream",
          "name": "stdout",
          "text": [
            "\n",
            "Select an option:\n",
            "1) Encode\n",
            "2) Decode\n",
            "3) Exit\n",
            "\n",
            "Choice: 1\n",
            "\n",
            "Encoding Starts..\n",
            "Enter Text to be Incription : Why is she sleeping\n",
            "0\n",
            "1\n",
            "154\n",
            "1\n",
            "198\n",
            "1\n",
            "37\n",
            "1\n",
            "120\n",
            "1\n",
            " |----> Successfully encoded text inside Audio_1.wav using Steganography \n",
            "Applying Triple DES Encryption on Audio 1 file \n",
            "Audio file encrypted with DES3 Algorithm Successful \n",
            "\n",
            "Select an option:\n",
            "1) Encode\n",
            "2) Decode\n",
            "3) Exit\n",
            "\n",
            "Choice: 2\n",
            "Audio file decryption with DES3 Algorithm Successful \n",
            "Enter TDES Key: MAP\n",
            "Audio file decrypted with DES3 Algorithm\n",
            "\n",
            "Decoding Starts.. Steganography \n",
            "Successfully decoded: Why is she sleeping\n",
            "\n",
            "Select an option:\n",
            "1) Encode\n",
            "2) Decode\n",
            "3) Exit\n",
            "\n",
            "Choice: 3\n",
            "Exiting program...\n"
          ]
        }
      ]
    },
    {
      "cell_type": "code",
      "source": [],
      "metadata": {
        "id": "wouMtUIOBNsB"
      },
      "execution_count": null,
      "outputs": []
    }
  ]
}